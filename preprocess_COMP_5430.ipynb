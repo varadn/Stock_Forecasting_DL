{
 "cells": [
  {
   "cell_type": "code",
   "execution_count": 59,
   "metadata": {},
   "outputs": [
    {
     "ename": "ImportError",
     "evalue": "cannot import name 'Normalize' from 'Modules.rnn_utils.utilities' (c:\\Users\\achia\\OneDrive\\Desktop\\College Folder\\Senior Year\\Fall 2023\\Deep Learning\\Project\\Code\\github\\Stock_Forecasting_DL\\Modules\\rnn_utils\\utilities.py)",
     "output_type": "error",
     "traceback": [
      "\u001b[1;31m---------------------------------------------------------------------------\u001b[0m",
      "\u001b[1;31mImportError\u001b[0m                               Traceback (most recent call last)",
      "Cell \u001b[1;32mIn[59], line 6\u001b[0m\n\u001b[0;32m      4\u001b[0m \u001b[38;5;28;01mimport\u001b[39;00m \u001b[38;5;21;01mglob\u001b[39;00m\n\u001b[0;32m      5\u001b[0m \u001b[38;5;28;01mimport\u001b[39;00m \u001b[38;5;21;01mrandom\u001b[39;00m\n\u001b[1;32m----> 6\u001b[0m \u001b[38;5;28;01mfrom\u001b[39;00m \u001b[38;5;21;01mModules\u001b[39;00m\u001b[38;5;21;01m.\u001b[39;00m\u001b[38;5;21;01mrnn_utils\u001b[39;00m\u001b[38;5;21;01m.\u001b[39;00m\u001b[38;5;21;01mutilities\u001b[39;00m \u001b[38;5;28;01mimport\u001b[39;00m MinMax, Normalize\n\u001b[0;32m      7\u001b[0m \u001b[38;5;28;01mfrom\u001b[39;00m \u001b[38;5;21;01mModules\u001b[39;00m\u001b[38;5;21;01m.\u001b[39;00m\u001b[38;5;21;01mmodel_COMP_5430\u001b[39;00m \u001b[38;5;28;01mimport\u001b[39;00m RNN\n\u001b[0;32m      8\u001b[0m \u001b[38;5;28;01mimport\u001b[39;00m \u001b[38;5;21;01mmatplotlib\u001b[39;00m\u001b[38;5;21;01m.\u001b[39;00m\u001b[38;5;21;01mpyplot\u001b[39;00m \u001b[38;5;28;01mas\u001b[39;00m \u001b[38;5;21;01mplt\u001b[39;00m\n",
      "\u001b[1;31mImportError\u001b[0m: cannot import name 'Normalize' from 'Modules.rnn_utils.utilities' (c:\\Users\\achia\\OneDrive\\Desktop\\College Folder\\Senior Year\\Fall 2023\\Deep Learning\\Project\\Code\\github\\Stock_Forecasting_DL\\Modules\\rnn_utils\\utilities.py)"
     ]
    }
   ],
   "source": [
    "import numpy as np\n",
    "import pickle as pkl\n",
    "import pandas as pd\n",
    "import glob\n",
    "import random\n",
    "from Modules.rnn_utils.utilities import MinMax\n",
    "from Modules.model_COMP_5430 import RNN\n",
    "import matplotlib.pyplot as plt"
   ]
  },
  {
   "cell_type": "markdown",
   "metadata": {},
   "source": [
    "## Retrieve Data"
   ]
  },
  {
   "cell_type": "code",
   "execution_count": null,
   "metadata": {},
   "outputs": [],
   "source": [
    "# Retrive 10 random data files\n",
    "files = glob.glob(\"../../archive/*.csv\")\n",
    "random.shuffle(files)\n",
    "files = files[:10]\n",
    "\n",
    "# files"
   ]
  },
  {
   "cell_type": "markdown",
   "metadata": {},
   "source": [
    "## Preprocess"
   ]
  },
  {
   "cell_type": "code",
   "execution_count": null,
   "metadata": {},
   "outputs": [],
   "source": [
    "def train_test_split(df, split=0.95):\n",
    "    # if split=0.95, splits data into 95% training, 5% test\n",
    "    max_index = round((len(df) - 1) * split)\n",
    "\n",
    "    # adjusted close price [2 days ago, 1 day ago]\n",
    "    train_inputs = [[df[i-2], df[i-1]] for i in range(2, max_index)]\n",
    "    # target is the next day for a given input above\n",
    "    train_targets = [i for i in df[2 : max_index]]\n",
    "\n",
    "    assert len(train_inputs) == len(train_targets)\n",
    "\n",
    "    test_inputs = [[df[i-2], df[i-1]] for i in range(max_index + 2, len(df))]\n",
    "    test_targets = [i for i in df[max_index + 2:]]\n",
    "\n",
    "    assert len(test_inputs) == len(test_targets)\n",
    "\n",
    "    return np.array(train_inputs), np.array(train_targets), np.array(test_inputs), np.array(test_targets)\n",
    "\n",
    "def to_3d(data):\n",
    "    # reshape data to [inputs, timesteps, features]\n",
    "    train = data.reshape(data.shape[0], data.shape[1], 1)\n",
    "    return train\n"
   ]
  },
  {
   "cell_type": "code",
   "execution_count": null,
   "metadata": {},
   "outputs": [],
   "source": [
    "def process_all_data(files):\n",
    "    preprocessed_file_data = dict()\n",
    "    # Retrieve + Clean data\n",
    "    for file in files:\n",
    "        df = pd.read_csv(file)\n",
    "        df = df[['Close']]\n",
    "\n",
    "        df_np = df.to_numpy()\n",
    "\n",
    "        # Normalize data between 0 and 1\n",
    "        scaler = Normalize(df_np)\n",
    "        normalized = scaler.normalize_data(df_np)\n",
    "\n",
    "        # Split data into 95% train, 5% test\n",
    "        train_input, train_target, test_input, test_target = train_test_split(normalized, 0.95)\n",
    "\n",
    "        # returns 3d array in format [inputs, timesteps, features]\n",
    "        train_input_3d = to_3d(train_input)\n",
    "        test_input_3d = to_3d(test_input)\n",
    "\n",
    "        # record in dictionary\n",
    "        preprocessed_file_data[file] = [train_input_3d, train_target, test_input_3d, test_target]\n",
    "\n",
    "    # Return data ready to train\n",
    "    return preprocessed_file_data, scaler"
   ]
  },
  {
   "cell_type": "code",
   "execution_count": null,
   "metadata": {},
   "outputs": [],
   "source": [
    "preprocessed_data, scaler = process_all_data(files)"
   ]
  },
  {
   "cell_type": "markdown",
   "metadata": {},
   "source": [
    "## Store Preprocessed Data in a pickle file"
   ]
  },
  {
   "cell_type": "code",
   "execution_count": null,
   "metadata": {},
   "outputs": [],
   "source": [
    "ppData_scaler = [preprocessed_data, scaler]\n",
    "with open('ppData_scaler_10_files.pkl', 'wb') as file:\n",
    "    pkl.dump(ppData_scaler, file)"
   ]
  },
  {
   "cell_type": "markdown",
   "metadata": {},
   "source": [
    "## Initialize Model"
   ]
  },
  {
   "cell_type": "code",
   "execution_count": null,
   "metadata": {},
   "outputs": [],
   "source": [
    "model = RNN(1, 30, 1, 0.0001)"
   ]
  },
  {
   "cell_type": "markdown",
   "metadata": {},
   "source": [
    "## Train Model"
   ]
  },
  {
   "cell_type": "code",
   "execution_count": null,
   "metadata": {},
   "outputs": [
    {
     "name": "stdout",
     "output_type": "stream",
     "text": [
      "File: ../../archive\\PM.csv\n",
      "Epoch #0\n",
      "Epoch #3423\n",
      "Epoch #3423\n",
      "Epoch #3423\n",
      "Epoch #3423\n",
      "Epoch #3423\n",
      "Epoch #3423\n",
      "Epoch #3423\n",
      "Epoch #3423\n",
      "Epoch #3423\n",
      "File: ../../archive\\CZR.csv\n",
      "Epoch #0\n",
      "Epoch #1864\n",
      "Epoch #1864\n",
      "Epoch #1864\n",
      "Epoch #1864\n",
      "Epoch #1864\n",
      "Epoch #1864\n",
      "Epoch #1864\n",
      "Epoch #1864\n",
      "Epoch #1864\n",
      "File: ../../archive\\PKI.csv\n",
      "Epoch #0\n",
      "Epoch #11831\n",
      "Epoch #11831\n",
      "Epoch #11831\n",
      "Epoch #11831\n",
      "Epoch #11831\n",
      "Epoch #11831\n",
      "Epoch #11831\n",
      "Epoch #11831\n",
      "Epoch #11831\n",
      "File: ../../archive\\SCHW.csv\n",
      "Epoch #0\n",
      "Epoch #8330\n",
      "Epoch #8330\n",
      "Epoch #8330\n",
      "Epoch #8330\n",
      "Epoch #8330\n",
      "Epoch #8330\n",
      "Epoch #8330\n",
      "Epoch #8330\n",
      "Epoch #8330\n",
      "File: ../../archive\\CLX.csv\n",
      "Epoch #0\n",
      "Epoch #11831\n",
      "Epoch #11831\n",
      "Epoch #11831\n",
      "Epoch #11831\n",
      "Epoch #11831\n",
      "Epoch #11831\n",
      "Epoch #11831\n",
      "Epoch #11831\n",
      "Epoch #11831\n",
      "File: ../../archive\\ADP.csv\n",
      "Epoch #0\n",
      "Epoch #10134\n",
      "Epoch #10134\n",
      "Epoch #10134\n",
      "Epoch #10134\n",
      "Epoch #10134\n",
      "Epoch #10134\n",
      "Epoch #10134\n",
      "Epoch #10134\n",
      "Epoch #10134\n",
      "File: ../../archive\\NWS.csv\n",
      "Epoch #0\n",
      "Epoch #2165\n",
      "Epoch #2165\n",
      "Epoch #2165\n",
      "Epoch #2165\n",
      "Epoch #2165\n",
      "Epoch #2165\n",
      "Epoch #2165\n",
      "Epoch #2165\n",
      "Epoch #2165\n",
      "File: ../../archive\\NTAP.csv\n",
      "Epoch #0\n",
      "Epoch #6367\n",
      "Epoch #6367\n",
      "Epoch #6367\n",
      "Epoch #6367\n",
      "Epoch #6367\n",
      "Epoch #6367\n",
      "Epoch #6367\n",
      "Epoch #6367\n",
      "Epoch #6367\n",
      "File: ../../archive\\PARA.csv\n",
      "Epoch #0\n",
      "Epoch #3966\n",
      "Epoch #3966\n",
      "Epoch #3966\n",
      "Epoch #3966\n",
      "Epoch #3966\n",
      "Epoch #3966\n",
      "Epoch #3966\n",
      "Epoch #3966\n",
      "Epoch #3966\n",
      "File: ../../archive\\NDAQ.csv\n",
      "Epoch #0\n",
      "Epoch #4788\n",
      "Epoch #4788\n",
      "Epoch #4788\n",
      "Epoch #4788\n",
      "Epoch #4788\n",
      "Epoch #4788\n",
      "Epoch #4788\n",
      "Epoch #4788\n",
      "Epoch #4788\n"
     ]
    }
   ],
   "source": [
    "# For each file in preprocessed data\n",
    "i = 0\n",
    "for key in preprocessed_data:\n",
    "    print(\"File:\",str(key))\n",
    "    # Unpack dictionary into train, test variables\n",
    "    train_test_list = preprocessed_data[key]\n",
    "    train_input_3d, train_target, test_input_3d, test_target = train_test_list\n",
    "\n",
    "    train_outputs = model.train(train_input_3d, train_target)\n",
    "    test_outputs = model.test(test_input_3d)\n",
    "    i += 1\n",
    "    if i % 20 == 0 and i != 0:\n",
    "        print(f\" Trained {i} files so far...\")"
   ]
  },
  {
   "cell_type": "markdown",
   "metadata": {},
   "source": [
    "## DeNormalize For Output"
   ]
  },
  {
   "cell_type": "code",
   "execution_count": null,
   "metadata": {},
   "outputs": [
    {
     "ename": "TypeError",
     "evalue": "'numpy.float64' object is not iterable",
     "output_type": "error",
     "traceback": [
      "\u001b[1;31m---------------------------------------------------------------------------\u001b[0m",
      "\u001b[1;31mTypeError\u001b[0m                                 Traceback (most recent call last)",
      "Cell \u001b[1;32mIn[56], line 1\u001b[0m\n\u001b[1;32m----> 1\u001b[0m train_outputs \u001b[38;5;241m=\u001b[39m scaler\u001b[38;5;241m.\u001b[39mdenormalize_data(train_outputs)\n\u001b[0;32m      2\u001b[0m train_targets \u001b[38;5;241m=\u001b[39m scaler\u001b[38;5;241m.\u001b[39mdenormalize_data(train_target)\n\u001b[0;32m      3\u001b[0m test_outputs \u001b[38;5;241m=\u001b[39m scaler\u001b[38;5;241m.\u001b[39mdenormalize_data(test_outputs)\n",
      "File \u001b[1;32mc:\\Users\\achia\\OneDrive\\Desktop\\College Folder\\Senior Year\\Fall 2023\\Deep Learning\\Project\\Code\\github\\Stock_Forecasting_DL\\Modules\\rnn_utils\\utilities.py:18\u001b[0m, in \u001b[0;36mdenormalize_data\u001b[1;34m(self, data)\u001b[0m\n\u001b[0;32m     17\u001b[0m \u001b[38;5;28;01mdef\u001b[39;00m \u001b[38;5;21mnormalize_data\u001b[39m(\u001b[38;5;28mself\u001b[39m, data):\n\u001b[1;32m---> 18\u001b[0m     data \u001b[38;5;241m=\u001b[39m np\u001b[38;5;241m.\u001b[39marray(data, dtype\u001b[38;5;241m=\u001b[39m\u001b[38;5;28mfloat\u001b[39m)\n\u001b[0;32m     19\u001b[0m     \u001b[38;5;28;01mreturn\u001b[39;00m np\u001b[38;5;241m.\u001b[39mdivide(data, \u001b[38;5;28mself\u001b[39m\u001b[38;5;241m.\u001b[39mfactor)\n",
      "File \u001b[1;32mc:\\Users\\achia\\OneDrive\\Desktop\\College Folder\\Senior Year\\Fall 2023\\Deep Learning\\Project\\Code\\github\\Stock_Forecasting_DL\\Modules\\rnn_utils\\utilities.py:30\u001b[0m, in \u001b[0;36mdenormalize_minmax\u001b[1;34m(self, data)\u001b[0m\n\u001b[0;32m     27\u001b[0m     \u001b[38;5;28mself\u001b[39m\u001b[38;5;241m.\u001b[39mminim \u001b[38;5;241m=\u001b[39m \u001b[38;5;28mmin\u001b[39m(data)\n\u001b[0;32m     28\u001b[0m     \u001b[38;5;28mself\u001b[39m\u001b[38;5;241m.\u001b[39mfactor \u001b[38;5;241m=\u001b[39m \u001b[38;5;28mself\u001b[39m\u001b[38;5;241m.\u001b[39mget_minmax(data)\n\u001b[1;32m---> 30\u001b[0m \u001b[38;5;28;01mdef\u001b[39;00m \u001b[38;5;21mget_minmax\u001b[39m(\u001b[38;5;28mself\u001b[39m, data):\n\u001b[0;32m     31\u001b[0m     \u001b[38;5;28;01mreturn\u001b[39;00m \u001b[38;5;28mmax\u001b[39m(data) \u001b[38;5;241m-\u001b[39m \u001b[38;5;28mmin\u001b[39m(data)\n\u001b[0;32m     33\u001b[0m \u001b[38;5;66;03m# scale data between 0 and 1\u001b[39;00m\n",
      "\u001b[1;31mTypeError\u001b[0m: 'numpy.float64' object is not iterable"
     ]
    }
   ],
   "source": [
    "train_outputs = scaler.denormalize_data(train_outputs)\n",
    "train_targets = scaler.denormalize_data(train_target)\n",
    "test_outputs = scaler.denormalize_data(test_outputs)\n",
    "test_targets = scaler.denormalize_data(test_target)"
   ]
  },
  {
   "cell_type": "code",
   "execution_count": null,
   "metadata": {},
   "outputs": [
    {
     "name": "stdout",
     "output_type": "stream",
     "text": [
      "RMSE: 35889.32591148874\n"
     ]
    }
   ],
   "source": [
    "# Put RMSE Here\n",
    "rmse = np.sqrt(np.mean((test_outputs - test_targets) ** 2))\n",
    "print(\"RMSE:\", rmse)"
   ]
  },
  {
   "cell_type": "code",
   "execution_count": null,
   "metadata": {},
   "outputs": [
    {
     "data": {
      "image/png": "[encoded data removed]",
      "text/plain": [
       "<Figure size 640x480 with 1 Axes>"
      ]
     },
     "metadata": {},
     "output_type": "display_data"
    }
   ],
   "source": [
    "plt.plot(test_targets, label='Actual Close')\n",
    "plt.plot(test_outputs, label='Predicted Close')\n",
    "plt.xlabel('Day')\n",
    "plt.ylabel('Close')\n",
    "plt.legend()\n",
    "plt.show()"
   ]
  },
  {
   "cell_type": "code",
   "execution_count": null,
   "metadata": {},
   "outputs": [
    {
     "ename": "ValueError",
     "evalue": "Shape of passed values is (251, 1), indices imply (1, 1)",
     "output_type": "error",
     "traceback": [
      "\u001b[1;31m---------------------------------------------------------------------------\u001b[0m",
      "\u001b[1;31mValueError\u001b[0m                                Traceback (most recent call last)",
      "Cell \u001b[1;32mIn[55], line 28\u001b[0m\n\u001b[0;32m     25\u001b[0m     plt\u001b[38;5;241m.\u001b[39msubplots_adjust(top \u001b[38;5;241m=\u001b[39m \u001b[38;5;241m0.93\u001b[39m)\n\u001b[0;32m     26\u001b[0m     plt\u001b[38;5;241m.\u001b[39mshow()\n\u001b[1;32m---> 28\u001b[0m plot_model_predictions(test_targets, test_outputs)\n",
      "Cell \u001b[1;32mIn[55], line 2\u001b[0m, in \u001b[0;36mplot_model_predictions\u001b[1;34m(test, preds)\u001b[0m\n\u001b[0;32m      1\u001b[0m \u001b[38;5;28;01mdef\u001b[39;00m \u001b[38;5;21mplot_model_predictions\u001b[39m(test, preds):\n\u001b[1;32m----> 2\u001b[0m     plot_test \u001b[38;5;241m=\u001b[39m pd\u001b[38;5;241m.\u001b[39mDataFrame(data\u001b[38;5;241m=\u001b[39mtest, index\u001b[38;5;241m=\u001b[39m\u001b[38;5;28mrange\u001b[39m(preds\u001b[38;5;241m.\u001b[39msize), columns\u001b[38;5;241m=\u001b[39m[\u001b[38;5;124m'\u001b[39m\u001b[38;5;124mClose\u001b[39m\u001b[38;5;124m'\u001b[39m])\n\u001b[0;32m      3\u001b[0m     plot_test[\u001b[38;5;124m'\u001b[39m\u001b[38;5;124mDay\u001b[39m\u001b[38;5;124m'\u001b[39m] \u001b[38;5;241m=\u001b[39m plot_test\u001b[38;5;241m.\u001b[39mindex\n\u001b[0;32m      4\u001b[0m     plot_test \u001b[38;5;241m=\u001b[39m plot_test[:\u001b[38;5;28mint\u001b[39m(np\u001b[38;5;241m.\u001b[39mceil(\u001b[38;5;28mlen\u001b[39m(plot_test) \u001b[38;5;241m*\u001b[39m \u001b[38;5;241m0.9\u001b[39m))]\n",
      "File \u001b[1;32mc:\\Users\\achia\\anaconda3\\Lib\\site-packages\\pandas\\core\\frame.py:758\u001b[0m, in \u001b[0;36mDataFrame.__init__\u001b[1;34m(self, data, index, columns, dtype, copy)\u001b[0m\n\u001b[0;32m    747\u001b[0m         mgr \u001b[38;5;241m=\u001b[39m dict_to_mgr(\n\u001b[0;32m    748\u001b[0m             \u001b[38;5;66;03m# error: Item \"ndarray\" of \"Union[ndarray, Series, Index]\" has no\u001b[39;00m\n\u001b[0;32m    749\u001b[0m             \u001b[38;5;66;03m# attribute \"name\"\u001b[39;00m\n\u001b[1;32m   (...)\u001b[0m\n\u001b[0;32m    755\u001b[0m             copy\u001b[38;5;241m=\u001b[39m_copy,\n\u001b[0;32m    756\u001b[0m         )\n\u001b[0;32m    757\u001b[0m     \u001b[38;5;28;01melse\u001b[39;00m:\n\u001b[1;32m--> 758\u001b[0m         mgr \u001b[38;5;241m=\u001b[39m ndarray_to_mgr(\n\u001b[0;32m    759\u001b[0m             data,\n\u001b[0;32m    760\u001b[0m             index,\n\u001b[0;32m    761\u001b[0m             columns,\n\u001b[0;32m    762\u001b[0m             dtype\u001b[38;5;241m=\u001b[39mdtype,\n\u001b[0;32m    763\u001b[0m             copy\u001b[38;5;241m=\u001b[39mcopy,\n\u001b[0;32m    764\u001b[0m             typ\u001b[38;5;241m=\u001b[39mmanager,\n\u001b[0;32m    765\u001b[0m         )\n\u001b[0;32m    767\u001b[0m \u001b[38;5;66;03m# For data is list-like, or Iterable (will consume into list)\u001b[39;00m\n\u001b[0;32m    768\u001b[0m \u001b[38;5;28;01melif\u001b[39;00m is_list_like(data):\n",
      "File \u001b[1;32mc:\\Users\\achia\\anaconda3\\Lib\\site-packages\\pandas\\core\\internals\\construction.py:337\u001b[0m, in \u001b[0;36mndarray_to_mgr\u001b[1;34m(values, index, columns, dtype, copy, typ)\u001b[0m\n\u001b[0;32m    332\u001b[0m \u001b[38;5;66;03m# _prep_ndarraylike ensures that values.ndim == 2 at this point\u001b[39;00m\n\u001b[0;32m    333\u001b[0m index, columns \u001b[38;5;241m=\u001b[39m _get_axes(\n\u001b[0;32m    334\u001b[0m     values\u001b[38;5;241m.\u001b[39mshape[\u001b[38;5;241m0\u001b[39m], values\u001b[38;5;241m.\u001b[39mshape[\u001b[38;5;241m1\u001b[39m], index\u001b[38;5;241m=\u001b[39mindex, columns\u001b[38;5;241m=\u001b[39mcolumns\n\u001b[0;32m    335\u001b[0m )\n\u001b[1;32m--> 337\u001b[0m _check_values_indices_shape_match(values, index, columns)\n\u001b[0;32m    339\u001b[0m \u001b[38;5;28;01mif\u001b[39;00m typ \u001b[38;5;241m==\u001b[39m \u001b[38;5;124m\"\u001b[39m\u001b[38;5;124marray\u001b[39m\u001b[38;5;124m\"\u001b[39m:\n\u001b[0;32m    340\u001b[0m     \u001b[38;5;28;01mif\u001b[39;00m \u001b[38;5;28missubclass\u001b[39m(values\u001b[38;5;241m.\u001b[39mdtype\u001b[38;5;241m.\u001b[39mtype, \u001b[38;5;28mstr\u001b[39m):\n",
      "File \u001b[1;32mc:\\Users\\achia\\anaconda3\\Lib\\site-packages\\pandas\\core\\internals\\construction.py:408\u001b[0m, in \u001b[0;36m_check_values_indices_shape_match\u001b[1;34m(values, index, columns)\u001b[0m\n\u001b[0;32m    406\u001b[0m passed \u001b[38;5;241m=\u001b[39m values\u001b[38;5;241m.\u001b[39mshape\n\u001b[0;32m    407\u001b[0m implied \u001b[38;5;241m=\u001b[39m (\u001b[38;5;28mlen\u001b[39m(index), \u001b[38;5;28mlen\u001b[39m(columns))\n\u001b[1;32m--> 408\u001b[0m \u001b[38;5;28;01mraise\u001b[39;00m \u001b[38;5;167;01mValueError\u001b[39;00m(\u001b[38;5;124mf\u001b[39m\u001b[38;5;124m\"\u001b[39m\u001b[38;5;124mShape of passed values is \u001b[39m\u001b[38;5;132;01m{\u001b[39;00mpassed\u001b[38;5;132;01m}\u001b[39;00m\u001b[38;5;124m, indices imply \u001b[39m\u001b[38;5;132;01m{\u001b[39;00mimplied\u001b[38;5;132;01m}\u001b[39;00m\u001b[38;5;124m\"\u001b[39m)\n",
      "\u001b[1;31mValueError\u001b[0m: Shape of passed values is (251, 1), indices imply (1, 1)"
     ]
    }
   ],
   "source": [
    "def plot_model_predictions(test, preds):\n",
    "    plot_test = pd.DataFrame(data=test, index=range(preds.size), columns=['Close'])\n",
    "    plot_test['Day'] = plot_test.index\n",
    "    plot_test = plot_test[:int(np.ceil(len(plot_test) * 0.9))]\n",
    "    plot_pred = pd.DataFrame(data=preds, index=range(test.size), columns=['Predictions'])\n",
    "    plot_pred['Day'] = plot_pred.index\n",
    "    plot_pred = plot_pred[int(np.ceil(len(plot_pred) * 0.9)):]\n",
    "\n",
    "    # fig, axes = plt.subplots(3, 2, figsize = (30, 30))\n",
    "    # axes[2][1].set_visible(False)\n",
    "    \n",
    "    plt.suptitle('Closing Price Predictions', verticalalignment = 'top', horizontalalignment = 'center', fontsize = 15)\n",
    "\n",
    "    # plt.facecolor('black')\n",
    "    plt.plot(plot_test['Day'], plot_test['Close'], color = '#6522F5', label = 'Train')\n",
    "    plt.plot(plot_pred['Day'], plot_pred['Predictions'], color = '#EB8791', label = 'Predictions')\n",
    "    # plt.set_title('Meta', fontsize = 30)\n",
    "    plt.xlabel('Time', fontsize = 10)\n",
    "    plt.ylabel('Closing Price', fontsize = 10)\n",
    "    # plt.xaxis.set_tick_params(labelsize = 18)\n",
    "    # plt.yaxis.set_tick_params(labelsize = 18)\n",
    "    plt.legend(loc = 'upper left', fontsize = 10)\n",
    "    \n",
    "    \n",
    "    plt.subplots_adjust(top = 0.93)\n",
    "    plt.show()\n",
    "    \n",
    "plot_model_predictions(test_targets, test_outputs)"
   ]
  }
 ],
 "metadata": {
  "kernelspec": {
   "display_name": "base",
   "language": "python",
   "name": "python3"
  },
  "language_info": {
   "codemirror_mode": {
    "name": "ipython",
    "version": 3
   },
   "file_extension": ".py",
   "mimetype": "text/x-python",
   "name": "python",
   "nbconvert_exporter": "python",
   "pygments_lexer": "ipython3",
   "version": "3.11.5"
  }
 },
 "nbformat": 4,
 "nbformat_minor": 2
}
