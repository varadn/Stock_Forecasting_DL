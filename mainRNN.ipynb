{
 "cells": [
  {
   "cell_type": "markdown",
   "metadata": {},
   "source": [
    "## Implementation of RNN from scratch for Artificial Intelligence Comp.5430"
   ]
  },
  {
   "cell_type": "code",
   "execution_count": 183,
   "metadata": {},
   "outputs": [],
   "source": [
    "import matplotlib.pyplot as plt\n",
    "from Modules.rnn_utils.utilities import *\n",
    "from Modules.rnnmodel import RNN\n",
    "import pandas as pd"
   ]
  },
  {
   "cell_type": "code",
   "execution_count": 184,
   "metadata": {},
   "outputs": [],
   "source": [
    "file = '../../archive/A.csv'\n",
    "\n",
    "df = pd.read_csv(file)\n",
    "\n",
    "values_df = df['Close'].values"
   ]
  },
  {
   "cell_type": "code",
   "execution_count": 185,
   "metadata": {},
   "outputs": [
    {
     "data": {
      "text/plain": [
       "array([0.15136087, 0.13889081, 0.15136087, ..., 0.68738758, 0.69081022,\n",
       "       0.66904002])"
      ]
     },
     "execution_count": 185,
     "metadata": {},
     "output_type": "execute_result"
    }
   ],
   "source": [
    "# normalize\n",
    "scaler = Normalize(values_df, max=True)\n",
    "normalized = scaler.normalize_data(values_df)\n",
    "\n",
    "normalized"
   ]
  },
  {
   "cell_type": "markdown",
   "metadata": {},
   "source": [
    "## Get training and testing inputs and outputs"
   ]
  },
  {
   "cell_type": "code",
   "execution_count": 186,
   "metadata": {},
   "outputs": [],
   "source": [
    "def train_test_split(df, split=0.75):\n",
    "    # if split=0.75, splits data into 75% training, 25% test\n",
    "    # provides targets for training and accuracy measurments\n",
    "    max_index = round((len(df) - 1) * split)\n",
    "\n",
    "    # adjusted close price [2 days ago, 1 day ago]\n",
    "    train_inputs = [[df[i-2], df[i-1]] for i in range(2, max_index)]\n",
    "    # target is the next day for a given input above\n",
    "    # e.g inputs = [day1, day2], [day2, day3]\n",
    "    #     targets = [day3, day4]\n",
    "    train_targets = [i for i in df[2 : max_index]]\n",
    "\n",
    "    assert len(train_inputs) == len(train_targets)\n",
    "\n",
    "    test_inputs = [[df[i-2], df[i-1]] for i in range(max_index + 2, len(df))]\n",
    "    test_targets = [i for i in df[max_index + 2:]]\n",
    "\n",
    "    assert len(test_inputs) == len(test_targets)\n",
    "\n",
    "    return np.array(train_inputs), np.array(train_targets), np.array(test_inputs), np.array(test_targets)\n",
    "\n",
    "def to_3d(data):\n",
    "    # reshape data to [inputs, timesteps, features]\n",
    "    train = data.reshape(data.shape[0], data.shape[1], 1)\n",
    "    return train"
   ]
  },
  {
   "cell_type": "code",
   "execution_count": 187,
   "metadata": {},
   "outputs": [],
   "source": [
    "train_inputs, train_targets, test_inputs, test_targets = train_test_split(normalized)"
   ]
  },
  {
   "cell_type": "code",
   "execution_count": 188,
   "metadata": {},
   "outputs": [],
   "source": [
    "# returns 3d array in format [inputs, timesteps, features]\n",
    "train_inputs = to_3d(train_inputs)\n",
    "test_inputs = to_3d(test_inputs)"
   ]
  },
  {
   "cell_type": "code",
   "execution_count": 189,
   "metadata": {},
   "outputs": [
    {
     "ename": "NameError",
     "evalue": "name 'train_model' is not defined",
     "output_type": "error",
     "traceback": [
      "\u001b[1;31m---------------------------------------------------------------------------\u001b[0m",
      "\u001b[1;31mNameError\u001b[0m                                 Traceback (most recent call last)",
      "Cell \u001b[1;32mIn[189], line 2\u001b[0m\n\u001b[0;32m      1\u001b[0m model \u001b[38;5;241m=\u001b[39m RNN(\u001b[38;5;241m1\u001b[39m, \u001b[38;5;241m30\u001b[39m, \u001b[38;5;241m1\u001b[39m, \u001b[38;5;241m0.0001\u001b[39m)\n\u001b[1;32m----> 2\u001b[0m train_outputs \u001b[38;5;241m=\u001b[39m train_model(model, train_inputs, train_targets)\n\u001b[0;32m      3\u001b[0m test_outputs \u001b[38;5;241m=\u001b[39m test_model(model, test_inputs)\n",
      "\u001b[1;31mNameError\u001b[0m: name 'train_model' is not defined"
     ]
    }
   ],
   "source": [
    "model = RNN(1, 30, 1, 0.0001)\n",
    "train_outputs = RNN.train_model(model, train_inputs, train_targets)\n",
    "test_outputs = RNN.test_model(model, test_inputs)\n"
   ]
  }
 ],
 "metadata": {
  "kernelspec": {
   "display_name": "base",
   "language": "python",
   "name": "python3"
  },
  "language_info": {
   "codemirror_mode": {
    "name": "ipython",
    "version": 3
   },
   "file_extension": ".py",
   "mimetype": "text/x-python",
   "name": "python",
   "nbconvert_exporter": "python",
   "pygments_lexer": "ipython3",
   "version": "3.11.5"
  }
 },
 "nbformat": 4,
 "nbformat_minor": 2
}
