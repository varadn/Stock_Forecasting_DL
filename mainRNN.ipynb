{
 "cells": [
  {
   "cell_type": "markdown",
   "metadata": {},
   "source": [
    "## Implementation of RNN from scratch for Artificial Intelligence Comp.5430"
   ]
  },
  {
   "cell_type": "code",
   "execution_count": 253,
   "metadata": {},
   "outputs": [],
   "source": [
    "import matplotlib.pyplot as plt\n",
    "from Modules.rnn_utils.utilities import *\n",
    "from Modules.rnnmodel import RNN\n",
    "import pandas as pd"
   ]
  },
  {
   "cell_type": "code",
   "execution_count": 254,
   "metadata": {},
   "outputs": [],
   "source": [
    "file = '../../archive/A.csv'\n",
    "\n",
    "df = pd.read_csv(file)\n",
    "\n",
    "values_df = df['Close'].values"
   ]
  },
  {
   "cell_type": "code",
   "execution_count": 255,
   "metadata": {},
   "outputs": [
    {
     "data": {
      "text/plain": [
       "array([0.15136087, 0.13889081, 0.15136087, ..., 0.68738758, 0.69081022,\n",
       "       0.66904002])"
      ]
     },
     "execution_count": 255,
     "metadata": {},
     "output_type": "execute_result"
    }
   ],
   "source": [
    "# normalize\n",
    "scaler = Normalize(values_df, max=True)\n",
    "normalized = scaler.normalize_data(values_df)\n",
    "\n",
    "normalized"
   ]
  },
  {
   "cell_type": "markdown",
   "metadata": {},
   "source": [
    "## Get training and testing inputs and outputs"
   ]
  },
  {
   "cell_type": "code",
   "execution_count": 256,
   "metadata": {},
   "outputs": [],
   "source": [
    "def train_test_split(df, split=0.75):\n",
    "    # if split=0.75, splits data into 75% training, 25% test\n",
    "    # provides targets for training and accuracy measurments\n",
    "    max_index = round((len(df) - 1) * split)\n",
    "\n",
    "    # adjusted close price [2 days ago, 1 day ago]\n",
    "    train_inputs = [[df[i-2], df[i-1]] for i in range(2, max_index)]\n",
    "    # target is the next day for a given input above\n",
    "    # e.g inputs = [day1, day2], [day2, day3]\n",
    "    #     targets = [day3, day4]\n",
    "    train_targets = [i for i in df[2 : max_index]]\n",
    "\n",
    "    assert len(train_inputs) == len(train_targets)\n",
    "\n",
    "    test_inputs = [[df[i-2], df[i-1]] for i in range(max_index + 2, len(df))]\n",
    "    test_targets = [i for i in df[max_index + 2:]]\n",
    "\n",
    "    assert len(test_inputs) == len(test_targets)\n",
    "\n",
    "    return np.array(train_inputs), np.array(train_targets), np.array(test_inputs), np.array(test_targets)\n",
    "\n",
    "def to_3d(data):\n",
    "    # reshape data to [inputs, timesteps, features]\n",
    "    train = data.reshape(data.shape[0], data.shape[1], 1)\n",
    "    return train"
   ]
  },
  {
   "cell_type": "code",
   "execution_count": 257,
   "metadata": {},
   "outputs": [],
   "source": [
    "train_inputs, train_targets, test_inputs, test_targets = train_test_split(normalized)"
   ]
  },
  {
   "cell_type": "markdown",
   "metadata": {},
   "source": [
    "## Train Test Functions"
   ]
  },
  {
   "cell_type": "code",
   "execution_count": 258,
   "metadata": {},
   "outputs": [],
   "source": [
    "def train(model, input, target):\n",
    "        epochs = 10\n",
    "        # For each epoch\n",
    "        for epoch in range(epochs):\n",
    "            # list outputs\n",
    "            if epoch == epochs - 1:\n",
    "                train_output_list = []\n",
    "            for i in range(input.shape[0]):\n",
    "                hidden_states, hidden_output = model.forward(input[i])\n",
    "                # to measure training accuracy\n",
    "                if epoch == epochs - 1:\n",
    "                    # save outputs\n",
    "                    train_output_list.append(hidden_output.tolist()[0])\n",
    "                # backprop\n",
    "                model.backprop(input[i], target[i], hidden_states, hidden_output)\n",
    "        # Transpose outputs\n",
    "        train_output_list = np.array(train_output_list).T[0]\n",
    "        # return trained outputs\n",
    "        return train_output_list\n",
    "\n",
    "def test(model, input):\n",
    "    # list to save output\n",
    "    test_out_list = []\n",
    "    # forward step\n",
    "    for i in range(input.shape[0]):\n",
    "        hidden_states, hidden_output = model.forward(input[i])\n",
    "        # save outputs\n",
    "        test_out_list.append(hidden_output.tolist()[0])\n",
    "    # conver to array and transpose outputs\n",
    "    test_out_list = np.array(test_out_list).T[0]\n",
    "    return test_out_list"
   ]
  },
  {
   "cell_type": "code",
   "execution_count": 259,
   "metadata": {},
   "outputs": [],
   "source": [
    "# returns 3d array in format [inputs, timesteps, features]\n",
    "train_inputs = to_3d(train_inputs)\n",
    "test_inputs = to_3d(test_inputs)"
   ]
  },
  {
   "cell_type": "code",
   "execution_count": 260,
   "metadata": {},
   "outputs": [],
   "source": [
    "model = RNN(1, 30, 1, 0.0001)\n",
    "train_outputs = train(model, train_inputs, train_targets)\n",
    "test_outputs = test(model, test_inputs)\n"
   ]
  },
  {
   "cell_type": "code",
   "execution_count": 261,
   "metadata": {},
   "outputs": [],
   "source": [
    "# de-normalize\n",
    "train_outputs = scaler.denormalize_data(train_outputs)\n",
    "train_targets = scaler.denormalize_data(train_targets)\n",
    "test_outputs = scaler.denormalize_data(test_outputs)\n",
    "test_targets = scaler.denormalize_data(test_targets)"
   ]
  },
  {
   "cell_type": "code",
   "execution_count": 262,
   "metadata": {},
   "outputs": [
    {
     "name": "stdout",
     "output_type": "stream",
     "text": [
      "RMSE: 10.250100047818302\n"
     ]
    }
   ],
   "source": [
    "# Put RMSE Here\n",
    "rmse = np.sqrt(np.mean((test_outputs - test_targets) ** 2))\n",
    "print(\"RMSE:\", rmse)"
   ]
  }
 ],
 "metadata": {
  "kernelspec": {
   "display_name": "base",
   "language": "python",
   "name": "python3"
  },
  "language_info": {
   "codemirror_mode": {
    "name": "ipython",
    "version": 3
   },
   "file_extension": ".py",
   "mimetype": "text/x-python",
   "name": "python",
   "nbconvert_exporter": "python",
   "pygments_lexer": "ipython3",
   "version": "3.11.5"
  }
 },
 "nbformat": 4,
 "nbformat_minor": 2
}
